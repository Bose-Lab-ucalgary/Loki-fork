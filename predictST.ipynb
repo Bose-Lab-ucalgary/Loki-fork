{
 "cells": [
  {
   "cell_type": "code",
   "execution_count": 1,
   "id": "e5d7fc3e",
   "metadata": {},
   "outputs": [
    {
     "name": "stdout",
     "output_type": "stream",
     "text": [
      "True\n",
      "True\n"
     ]
    }
   ],
   "source": [
    "import os\n",
    "\n",
    "XENA_path = \"../tahsin/data/UCSC-XENA-Pancancer-TCGA\"\n",
    "print(os.path.exists(XENA_path))\n",
    "\n",
    "transcript_list_path = os.path.join(XENA_path, \"tcga_rsem_isoform_tpm.gz\")\n",
    "print(os.path.exists(transcript_list_path))"
   ]
  },
  {
   "cell_type": "code",
   "execution_count": null,
   "id": "b31e9d8e",
   "metadata": {},
   "outputs": [],
   "source": [
    "import pandas as pd\n",
    "\n",
    "file = pd.read_csv(transcript_list_path, sep='\\t', compression='gzip', header=0)"
   ]
  },
  {
   "cell_type": "code",
   "execution_count": null,
   "id": "315a6999",
   "metadata": {},
   "outputs": [],
   "source": [
    "print(file)"
   ]
  },
  {
   "cell_type": "code",
   "execution_count": null,
   "id": "6e9b1bcc",
   "metadata": {},
   "outputs": [],
   "source": [
    "file['gene_id'].unique().to_csv(\"gene_list.csv\")"
   ]
  },
  {
   "cell_type": "code",
   "execution_count": null,
   "id": "34461851",
   "metadata": {},
   "outputs": [],
   "source": [
    "import loki\n",
    "model_path = os.path.join(data_dir, 'checkpoint.pt')\n",
    "device = 'gpu' if loki.utils.is_gpu_available() else 'cpu'"
   ]
  },
  {
   "cell_type": "code",
   "execution_count": null,
   "id": "581f3a4e",
   "metadata": {},
   "outputs": [],
   "source": [
    "model, preprocess, tokenizer = loki.utils.load_model(model_path, device)"
   ]
  },
  {
   "cell_type": "code",
   "execution_count": null,
   "id": "77a5b854",
   "metadata": {},
   "outputs": [],
   "source": [
    "model.eval()"
   ]
  },
  {
   "cell_type": "markdown",
   "id": "e459b7b6",
   "metadata": {},
   "source": [
    "# Encode gene text"
   ]
  },
  {
   "cell_type": "code",
   "execution_count": null,
   "id": "6d8a2745",
   "metadata": {},
   "outputs": [],
   "source": [
    "gene_string = ' '.join(gene_list)\n",
    "print(gene_string[:100])  # print first 100 characters for preview"
   ]
  },
  {
   "cell_type": "code",
   "execution_count": null,
   "id": "c8d21669",
   "metadata": {},
   "outputs": [],
   "source": [
    "text_emb = loki.utils.encode_texts(model, tokenizer, [gene_string], device=device)\n",
    "print(f\"Encoded text shape: {text_emb.shape}\")"
   ]
  },
  {
   "cell_type": "markdown",
   "id": "94887a5f",
   "metadata": {},
   "source": [
    "# Encode Images and Calc Similarity"
   ]
  },
  {
   "cell_type": "code",
   "execution_count": null,
   "id": "db0112a2",
   "metadata": {},
   "outputs": [],
   "source": [
    "slide_path = \"../tahsin/data/TCGA-all-slides-rnaseq\"\n",
    "slide_list = os.listdir(slide_path)\n",
    "\n",
    "similarities = {}\n",
    "\n",
    "for file in slide_list:\n",
    "    path = os.path.join(slide_path, file)\n",
    "    for item in os.listdir(item):\n",
    "        if item.endswith('jp2'):\n",
    "            slide_file = os.path.join(path, item)\n",
    "            print(f\"Processing slide: {slide_file}\")\n",
    "            slide_embeddings = loki.utils.encode_images(model, preprocess, [slide_file], device=device)\n",
    "            slide_embeddings.shape\n",
    "\n",
    "            dot_similarity = slide_embeddings @ text_emb.T\n",
    "            similarities[file] = dot_similarity.cpu().numpy()"
   ]
  },
  {
   "cell_type": "code",
   "execution_count": null,
   "id": "980606e3",
   "metadata": {},
   "outputs": [],
   "source": []
  }
 ],
 "metadata": {
  "kernelspec": {
   "display_name": "Python 3 (ipykernel)",
   "language": "python",
   "name": "python3"
  }
 },
 "nbformat": 4,
 "nbformat_minor": 5
}
